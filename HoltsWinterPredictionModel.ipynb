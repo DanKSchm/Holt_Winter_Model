{
 "cells": [
  {
   "cell_type": "markdown",
   "metadata": {},
   "source": [
    "## Using  Holt-Winters Triple Exponential Smoothing method "
   ]
  },
  {
   "cell_type": "code",
   "execution_count": null,
   "metadata": {},
   "outputs": [],
   "source": [
    "import pandas as pd\n",
    "import numpy as np\n",
    "\n",
    "from sklearn.metrics import mean_squared_error\n",
    "from sklearn.metrics import mean_absolute_error\n",
    "\n",
    "import matplotlib.pyplot as plt\n",
    "from matplotlib.pyplot import rcParams\n",
    "\n",
    "import seaborn as sns\n",
    "\n",
    "from statsmodels.tsa.api import ExponentialSmoothing, SimpleExpSmoothing, Holt\n",
    "rcParams[\"figure.figsize\"] = 15,6\n",
    "\n"
   ]
  },
  {
   "cell_type": "code",
   "execution_count": null,
   "metadata": {},
   "outputs": [],
   "source": [
    "# load and transform the data\n",
    "df = sns.load_dataset('flights')\n",
    "df['year'] = df['year'].astype(str)\n",
    "df['month'] = df['month'].astype(str)\n",
    "df['date'] = df['month'] + df['year']\n",
    "df['date'] = pd.to_datetime(df['date'])\n",
    "df.set_index(['date'],inplace=True)\n",
    "df.drop(columns=['year','month'],inplace=True)\n",
    "y = df['passengers']\n",
    "\n",
    "y.head()\n",
    "\n",
    "# make a train test split\n",
    "y_train = y[:'1958-01-01']\n",
    "y_test =  y['1958-01-02':]\n",
    "\n",
    "# plot the series\n",
    "ax = y_train.plot()\n",
    "y_test.plot(ax=ax)"
   ]
  },
  {
   "cell_type": "markdown",
   "metadata": {},
   "source": [
    "### -> method suitable for forecasting  data with trend and/or seasonality\n",
    "\n",
    "###### Limitations:   \n",
    "                  -> cannot handle irregular pattern well\n",
    "                  -> only for univariate and stationary forecasts"
   ]
  },
  {
   "cell_type": "markdown",
   "metadata": {},
   "source": [
    "## Alpha Smoothing Constant\n",
    "When the Search Method is set to Specified Value, this option specifies the value of alpha. Alpha is the\n",
    "smoothing constant for the level of the series. The limits of this value are zero and one. Usually, a value between\n",
    "0.1 and 0.3 are used. As the value gets closer to one, more and more weight is given to recent observations.\n",
    "\n",
    "## Beta Smoothing Constant\n",
    "When the Search Method is set to Specified Value, this option specifies the value of beta. Beta is the smoothing\n",
    "constant for the trend. The limits of this value are zero and one. Usually, a value between 0.1 and 0.3 are used. As\n",
    "the value gets closer to one, more and more weight is given to recent observations.\n",
    "\n",
    "## Gamma Smoothing Constant\n",
    "When the Search Method is set to Specified Value, this option specifies the value of gamma. Gamma is the\n",
    "smoothing constant for the seasonal factors. The limits of this value are zero and one. Usually, a value between\n",
    "0.1 and 0.3 are used. As the value gets closer to one, more and more weight is given to recent observations.\n",
    "\n",
    "\n",
    "## Link to formula and further mathematical description\n",
    "\n",
    "https://ncss-wpengine.netdna-ssl.com/wp-content/themes/ncss/pdf/Procedures/NCSS/Exponential_Smoothing-Trend_and_Seasonal.pdf"
   ]
  },
  {
   "cell_type": "code",
   "execution_count": null,
   "metadata": {},
   "outputs": [],
   "source": [
    "fit1 = ExponentialSmoothing(y_train, seasonal_periods = 12, trend = \"add\", seasonal = \"add\").fit(use_boxcox=True)"
   ]
  },
  {
   "cell_type": "markdown",
   "metadata": {},
   "source": [
    "#### Additive:  = Trend + Seasonal + Random\n",
    "#### Multiplicative:  = Trend * Seasonal * Random"
   ]
  },
  {
   "cell_type": "code",
   "execution_count": null,
   "metadata": {},
   "outputs": [],
   "source": [
    "fit1.fittedvalues.plot(style=\"--\", color=\"red\", )"
   ]
  },
  {
   "cell_type": "code",
   "execution_count": null,
   "metadata": {},
   "outputs": [],
   "source": [
    "y_hat = fit1.forecast(35)"
   ]
  },
  {
   "cell_type": "code",
   "execution_count": null,
   "metadata": {},
   "outputs": [],
   "source": [
    "y_hat.plot(style=\"--\", marker=\"o\", color=\"blue\", legend=True )\n",
    "\n",
    "y_test.plot()\n",
    "\n",
    "y_train.plot()"
   ]
  },
  {
   "cell_type": "code",
   "execution_count": null,
   "metadata": {},
   "outputs": [],
   "source": [
    "y_hat.plot( marker=\"o\", color=\"blue\", legend=True )\n",
    "\n",
    "y_test.plot(color=\"orange\", marker=\"o\", legend=True)\n",
    "\n"
   ]
  },
  {
   "cell_type": "code",
   "execution_count": null,
   "metadata": {},
   "outputs": [],
   "source": [
    "#fit1.fittedvalues\n",
    "#fit1.fittedfcast\n",
    "#fit1.season\n",
    "#fit1.sse\n",
    "#fit1.fcastvalues"
   ]
  },
  {
   "cell_type": "markdown",
   "metadata": {},
   "source": [
    "## Evaluate the model (MSE)"
   ]
  },
  {
   "cell_type": "code",
   "execution_count": null,
   "metadata": {},
   "outputs": [],
   "source": [
    "mse = mean_squared_error(y_test, y_hat)\n",
    "mae = mean_absolute_error(y_test,y_hat)\n",
    "\n",
    "print(mse)\n",
    "print(mae)\n"
   ]
  },
  {
   "cell_type": "code",
   "execution_count": null,
   "metadata": {},
   "outputs": [],
   "source": []
  }
 ],
 "metadata": {
  "kernelspec": {
   "display_name": "Python 3",
   "language": "python",
   "name": "python3"
  },
  "language_info": {
   "codemirror_mode": {
    "name": "ipython",
    "version": 3
   },
   "file_extension": ".py",
   "mimetype": "text/x-python",
   "name": "python",
   "nbconvert_exporter": "python",
   "pygments_lexer": "ipython3",
   "version": "3.7.6"
  }
 },
 "nbformat": 4,
 "nbformat_minor": 4
}
